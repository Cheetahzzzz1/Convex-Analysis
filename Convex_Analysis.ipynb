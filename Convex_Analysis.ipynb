{
  "nbformat": 4,
  "nbformat_minor": 0,
  "metadata": {
    "colab": {
      "provenance": [],
      "authorship_tag": "ABX9TyO22Y6x4adX5C4K4I5FOeH/"
    },
    "kernelspec": {
      "name": "python3",
      "display_name": "Python 3"
    },
    "language_info": {
      "name": "python"
    }
  },
  "cells": [
    {
      "cell_type": "code",
      "execution_count": 1,
      "metadata": {
        "colab": {
          "base_uri": "https://localhost:8080/"
        },
        "id": "DitzddKKxOaQ",
        "outputId": "7d66276d-021f-4827-ebf3-13da9036763d"
      },
      "outputs": [
        {
          "output_type": "stream",
          "name": "stdout",
          "text": [
            "                                                                        Result\n",
            "Description                                                                   \n",
            "Matrix A                     [[1.1760157793984565, 0.9913539725682842, 1.45...\n",
            "Matrix B                     [[1.0535857704268472, 0.9882005132681572, 0.48...\n",
            "Convex Combination C         [[1.1148007749126518, 0.9897772429182207, 0.97...\n",
            "Is C Positive Semidefinite?                                               True\n"
          ]
        }
      ],
      "source": [
        "# Re-import necessary libraries after execution state reset\n",
        "import numpy as np\n",
        "import pandas as pd\n",
        "# Function to check if a matrix is positive semidefinite (PSD)\n",
        "def is_psd(matrix):\n",
        "    eigenvalues = np.linalg.eigvalsh(matrix)  # Compute eigenvalues\n",
        "    return np.all(eigenvalues >= 0)  # Check if all eigenvalues are nonnegative\n",
        "\n",
        "# Generate two random positive semidefinite matrices A and B\n",
        "np.random.seed(0)  # For reproducibility\n",
        "n = 3  # Matrix size\n",
        "\n",
        "# Create random symmetric matrices\n",
        "A_random = np.random.rand(n, n)\n",
        "B_random = np.random.rand(n, n)\n",
        "\n",
        "# Ensure A and B are PSD by forming A = M M^T\n",
        "A = np.dot(A_random, A_random.T)\n",
        "B = np.dot(B_random, B_random.T)\n",
        "\n",
        "# Select a convex combination parameter lambda in [0,1]\n",
        "lambda_val = 0.5\n",
        "\n",
        "# Compute convex combination\n",
        "C = lambda_val * A + (1 - lambda_val) * B\n",
        "\n",
        "# Check if C is PSD\n",
        "C_is_psd = is_psd(C)\n",
        "\n",
        "# Display results\n",
        "results = {\n",
        "    \"Matrix A\": [A],\n",
        "    \"Matrix B\": [B],\n",
        "    \"Convex Combination C\": [C],\n",
        "    \"Is C Positive Semidefinite?\": [C_is_psd]\n",
        "}\n",
        "\n",
        "df_results = pd.DataFrame.from_dict(results, orient=\"index\", columns=[\"Result\"])\n",
        "df_results.index.name = \"Description\"\n",
        "print(df_results)"
      ]
    }
  ]
}